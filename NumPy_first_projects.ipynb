{
  "nbformat": 4,
  "nbformat_minor": 0,
  "metadata": {
    "colab": {
      "provenance": [],
      "authorship_tag": "ABX9TyMttr7C/pEXgM5cjTubJzVv",
      "include_colab_link": true
    },
    "kernelspec": {
      "name": "python3",
      "display_name": "Python 3"
    },
    "language_info": {
      "name": "python"
    }
  },
  "cells": [
    {
      "cell_type": "markdown",
      "metadata": {
        "id": "view-in-github",
        "colab_type": "text"
      },
      "source": [
        "<a href=\"https://colab.research.google.com/github/afjal6000/NumPy-mini-project/blob/main/NumPy_first_projects.ipynb\" target=\"_parent\"><img src=\"https://colab.research.google.com/assets/colab-badge.svg\" alt=\"Open In Colab\"/></a>"
      ]
    },
    {
      "cell_type": "markdown",
      "source": [
        "#NUMPY MINI PROJECT\n",
        "######Let us build a mini project to learn more about NumPy.\n",
        "Features of the data set:\n",
        "\n",
        "*   Age: Age of the Person\n",
        "*   education-num: No. of years of education they had \n",
        "*   race: Person's race\n",
        "          0 - Amer-Indian-Eskimo\n",
        "          1 - Asian-Pac-Islander\n",
        "          2 - Black\n",
        "          3 - Other\n",
        "          4 - White\n",
        "*   sex: Person's gender\n",
        "          0 - Female\n",
        "          1 - Male\n",
        "*   capital-gain: Income from investment sources, apart from wages/salary\n",
        "*   capital loss: Losses from investment sources, apart from wages/salary\n",
        "*   hours-per-week: No. of hours per week the person works\n",
        "*   income: Annual Income of the person\n",
        "          0 - Less than or equal to 50k\n",
        "          1 - More than 50k\n",
        "\n",
        "\n",
        "\n",
        "\n",
        "\n",
        "\n",
        "\n",
        "\n",
        "\n"
      ],
      "metadata": {
        "id": "6H0oGJS3c8U9"
      }
    },
    {
      "cell_type": "markdown",
      "source": [
        "#Step 1 : Importing Numpy:"
      ],
      "metadata": {
        "id": "0RP4xn26ldRW"
      }
    },
    {
      "cell_type": "code",
      "source": [
        "import numpy as np"
      ],
      "metadata": {
        "id": "bVxidin9lbxj"
      },
      "execution_count": null,
      "outputs": []
    },
    {
      "cell_type": "markdown",
      "source": [
        "#Step 2 : Read the Data!\n",
        "###### For reading the data 1st we need to upload the data set into our google colab. After that we can just save the copy data path link or the name of the data set into a variable.\n",
        "\n"
      ],
      "metadata": {
        "id": "PzDz2BYghpI7"
      }
    },
    {
      "cell_type": "code",
      "execution_count": null,
      "metadata": {
        "id": "iZV5H-VGbi8q"
      },
      "outputs": [],
      "source": [
        "data_file = '/content/makeSenseOfCensus (1).csv'"
      ]
    },
    {
      "cell_type": "markdown",
      "source": [
        "######In here we are saving data path of the data set in a variable called 'data_file' successfully. After this we need to load the data."
      ],
      "metadata": {
        "id": "cQiHVxnFc6mr"
      }
    },
    {
      "cell_type": "markdown",
      "source": [
        "##Loading the data:"
      ],
      "metadata": {
        "id": "xLqcACJZkux5"
      }
    },
    {
      "cell_type": "code",
      "source": [
        "data = np.genfromtxt(data_file, delimiter = ',', skip_header = 1)\n",
        "#printing the data\n",
        "print('\\nData: \\n\\n', data)\n",
        "#printing the data type of data\n",
        "print('\\nData: \\n\\n', type(data))"
      ],
      "metadata": {
        "colab": {
          "base_uri": "https://localhost:8080/"
        },
        "id": "EBDR8sTfjcg4",
        "outputId": "788c298f-5b72-4073-b473-54f0f178ff26"
      },
      "execution_count": null,
      "outputs": [
        {
          "output_type": "stream",
          "name": "stdout",
          "text": [
            "\n",
            "Data: \n",
            "\n",
            " [[39. 13.  4. ...  0. 40.  0.]\n",
            " [50. 13.  4. ...  0. 13.  0.]\n",
            " [38.  9.  4. ...  0. 40.  0.]\n",
            " ...\n",
            " [48. 13.  4. ...  0. 58.  1.]\n",
            " [40. 10.  4. ...  0. 40.  0.]\n",
            " [39. 13.  4. ...  0. 50.  1.]]\n",
            "\n",
            "Data: \n",
            "\n",
            " <class 'numpy.ndarray'>\n"
          ]
        }
      ]
    },
    {
      "cell_type": "markdown",
      "source": [
        "#Step 2 : Append the Data:\n",
        "######We are going to append 'new_record'(given) to 'data' using 'np.concatenate()'. Let's check who that will work."
      ],
      "metadata": {
        "id": "LeQWryYcm0c7"
      }
    },
    {
      "cell_type": "code",
      "source": [
        "new_record = [[50,9,4,1,0,0,40,0]]\n",
        "#Appending the 'new_record' data with the 'data'\n",
        "append_data = np.concatenate((data, new_record))\n",
        "#Lets check the new data added or not..\n",
        "append_data"
      ],
      "metadata": {
        "colab": {
          "base_uri": "https://localhost:8080/"
        },
        "id": "Pst0Tl0Jmgr8",
        "outputId": "9156faec-e09d-4dd7-f355-e8bf3a993e07"
      },
      "execution_count": null,
      "outputs": [
        {
          "output_type": "execute_result",
          "data": {
            "text/plain": [
              "array([[39., 13.,  4., ...,  0., 40.,  0.],\n",
              "       [50., 13.,  4., ...,  0., 13.,  0.],\n",
              "       [38.,  9.,  4., ...,  0., 40.,  0.],\n",
              "       ...,\n",
              "       [40., 10.,  4., ...,  0., 40.,  0.],\n",
              "       [39., 13.,  4., ...,  0., 50.,  1.],\n",
              "       [50.,  9.,  4., ...,  0., 40.,  0.]])"
            ]
          },
          "metadata": {},
          "execution_count": 12
        }
      ]
    },
    {
      "cell_type": "markdown",
      "source": [
        "#Step 3 : Check if it's a young country or old country..\n",
        "\n",
        "- Create a new array called 'age' by taking only age column(age is the column with index 0) of 'census' array.\n",
        "\n",
        "- Find the max age and store it in a variable called 'max_age'.\n",
        "\n",
        "- Find the min age and store it in a variable called 'min_age'.\n",
        "\n",
        "- Find the mean of the age and store it in a variable called 'age_mean'.\n",
        "\n",
        "- Find the standard deviation of the age and store it in a variable called 'age_std'"
      ],
      "metadata": {
        "id": "CcP13opwqGr9"
      }
    },
    {
      "cell_type": "markdown",
      "source": [
        "######Create a new array called 'age' by taking only age column(age is the column with index 0) of 'census' array."
      ],
      "metadata": {
        "id": "SIZyjGz2s-Bm"
      }
    },
    {
      "cell_type": "code",
      "source": [
        "age = append_data[:,0]\n",
        "#printing the age..\n",
        "print(\"Age of all the person's-\", age)"
      ],
      "metadata": {
        "colab": {
          "base_uri": "https://localhost:8080/"
        },
        "id": "59SuLti2qBf9",
        "outputId": "f0aef103-d3bf-4a68-e10f-91535a2608da"
      },
      "execution_count": null,
      "outputs": [
        {
          "output_type": "stream",
          "name": "stdout",
          "text": [
            "Age of all the person's- [39. 50. 38. ... 40. 39. 50.]\n"
          ]
        }
      ]
    },
    {
      "cell_type": "markdown",
      "source": [
        "######Find the max age and store it in a variable called 'max_age'."
      ],
      "metadata": {
        "id": "7VYE0RfLt1eb"
      }
    },
    {
      "cell_type": "code",
      "source": [
        "max_age = age.max()\n",
        "#printing the max_age..\n",
        "print(\"Maximum age of a person present in the data set is -\", max_age)"
      ],
      "metadata": {
        "colab": {
          "base_uri": "https://localhost:8080/"
        },
        "id": "sFaA_v8lt1Fn",
        "outputId": "983d7c02-5af2-4389-d1f6-8e405ab4eb3e"
      },
      "execution_count": null,
      "outputs": [
        {
          "output_type": "stream",
          "name": "stdout",
          "text": [
            "Maximum age of a person present in the data set is - 90.0\n"
          ]
        }
      ]
    },
    {
      "cell_type": "markdown",
      "source": [
        "######Find the min age and store it in a variable called 'min_age'."
      ],
      "metadata": {
        "id": "6mt9SArfuwKe"
      }
    },
    {
      "cell_type": "code",
      "source": [
        "min_age = age.min()\n",
        "# printing the min_age..\n",
        "print(\"Minimum age of a person present in the data set is -\", min_age)"
      ],
      "metadata": {
        "colab": {
          "base_uri": "https://localhost:8080/"
        },
        "id": "sBreIEyluu0f",
        "outputId": "228bf906-cfe0-4117-e80d-a9785b4c2773"
      },
      "execution_count": null,
      "outputs": [
        {
          "output_type": "stream",
          "name": "stdout",
          "text": [
            "Minimum age of a person present in the data set is - 17.0\n"
          ]
        }
      ]
    },
    {
      "cell_type": "markdown",
      "source": [
        "######Find the mean of the age and store it in a variable called 'age_mean'."
      ],
      "metadata": {
        "id": "RYQZ37oSvi9W"
      }
    },
    {
      "cell_type": "code",
      "source": [
        "age_mean = age.mean()\n",
        "# printing the age_mean\n",
        "print(\"The mean of the age is -\", age_mean)"
      ],
      "metadata": {
        "colab": {
          "base_uri": "https://localhost:8080/"
        },
        "id": "mOPxsDmFvWEf",
        "outputId": "05d5f34c-49a3-421f-a84e-2c8a1a20e6ab"
      },
      "execution_count": null,
      "outputs": [
        {
          "output_type": "stream",
          "name": "stdout",
          "text": [
            "The mean of the age is - 38.06293706293706\n"
          ]
        }
      ]
    },
    {
      "cell_type": "markdown",
      "source": [
        "######Find the standard deviation of the age and store it in a variable called 'age_std'"
      ],
      "metadata": {
        "id": "Nhygi-0Kzink"
      }
    },
    {
      "cell_type": "code",
      "source": [
        "age_std = age.std()\n",
        "# printing the age_std\n",
        "print(\"The standard deviation of the age is -\", age_std)"
      ],
      "metadata": {
        "colab": {
          "base_uri": "https://localhost:8080/"
        },
        "id": "Vo50NtxEzg8p",
        "outputId": "615ed892-6a2b-4130-c015-94af01606340"
      },
      "execution_count": null,
      "outputs": [
        {
          "output_type": "stream",
          "name": "stdout",
          "text": [
            "The standard deviation of the age is - 13.341478176165857\n"
          ]
        }
      ]
    },
    {
      "cell_type": "markdown",
      "source": [
        "# Step 4: Let's check the country's race distribution to identify the minorities\n",
        "- Create four different arrays by subsetting 'census' array by Race column(Race is the column with index 2) and save them in 'race_0','race_1', 'race_2', 'race_3' and 'race_4' respectively(Meaning: Store the array where 'race'column has value 0 in 'race_0', so on and so forth)\n",
        "\n",
        "- Store the length of the above created arrays in 'len_0', 'len_1','len_2', 'len_3' and 'len_4' respectively\n",
        "\n",
        "- Find out which is the race with the minimum no. of citizens\n",
        "\n",
        "- Store the number associated with the minority race in a variable called 'minority_race'(For eg: if \"len(race_5)\" is the minimum, store 5 in 'minority_race' because that is the index of the race having the least no. of citizens )"
      ],
      "metadata": {
        "id": "vuLbpSf50DxH"
      }
    },
    {
      "cell_type": "markdown",
      "source": [
        "######Create four different arrays by subsetting 'census' array by Race column(Race is the column with index 2) and save them in 'race_0','race_1', 'race_2', 'race_3' and 'race_4' respectively(Meaning: Store the array where 'race'column has value 0 in 'race_0', so on and so forth)"
      ],
      "metadata": {
        "id": "4V7HsT0l0lDT"
      }
    },
    {
      "cell_type": "code",
      "source": [
        "race = append_data[:,2]\n",
        "# printing the race\n",
        "print(race)"
      ],
      "metadata": {
        "colab": {
          "base_uri": "https://localhost:8080/"
        },
        "id": "UZ4XvWGf0B3T",
        "outputId": "cafbeb94-22ce-4fcf-c07f-abca8f15a39c"
      },
      "execution_count": null,
      "outputs": [
        {
          "output_type": "stream",
          "name": "stdout",
          "text": [
            "[4. 4. 4. ... 4. 4. 4.]\n"
          ]
        }
      ]
    },
    {
      "cell_type": "code",
      "source": [
        "# storing the \"0 - Amer-Indian-Eskimo\" in a new veriable called 'race_0'\n",
        "race_0 = race[race==0]\n",
        "print(race_0)"
      ],
      "metadata": {
        "colab": {
          "base_uri": "https://localhost:8080/"
        },
        "id": "d5QGqjzP16BN",
        "outputId": "9f420684-fcd1-4f3e-926a-feaa8c3b955b"
      },
      "execution_count": null,
      "outputs": [
        {
          "output_type": "stream",
          "name": "stdout",
          "text": [
            "[0. 0. 0. 0. 0. 0. 0. 0. 0. 0.]\n"
          ]
        }
      ]
    },
    {
      "cell_type": "code",
      "source": [
        "# storing the \"1 - Asian-Pac-Islander\" in a new veriable called 'race_1'\n",
        "race_1 = race[race==1]\n",
        "print(race_1)"
      ],
      "metadata": {
        "colab": {
          "base_uri": "https://localhost:8080/"
        },
        "id": "GE3LyL202aUS",
        "outputId": "bc41aa49-2030-46db-f27b-59d430cebf44"
      },
      "execution_count": null,
      "outputs": [
        {
          "output_type": "stream",
          "name": "stdout",
          "text": [
            "[1. 1. 1. 1. 1. 1. 1. 1. 1. 1. 1. 1. 1. 1. 1. 1. 1. 1. 1. 1. 1. 1. 1. 1.\n",
            " 1. 1. 1.]\n"
          ]
        }
      ]
    },
    {
      "cell_type": "code",
      "source": [
        "# storing the \"2 - Black\" in a new veriable called 'race_2'\n",
        "race_2 = race[race==2]\n",
        "print(race_2)"
      ],
      "metadata": {
        "colab": {
          "base_uri": "https://localhost:8080/"
        },
        "id": "sgZuZZzw23pb",
        "outputId": "a1443efe-6d85-4019-9f4e-c9574c88ebf9"
      },
      "execution_count": null,
      "outputs": [
        {
          "output_type": "stream",
          "name": "stdout",
          "text": [
            "[2. 2. 2. 2. 2. 2. 2. 2. 2. 2. 2. 2. 2. 2. 2. 2. 2. 2. 2. 2. 2. 2. 2. 2.\n",
            " 2. 2. 2. 2. 2. 2. 2. 2. 2. 2. 2. 2. 2. 2. 2. 2. 2. 2. 2. 2. 2. 2. 2. 2.\n",
            " 2. 2. 2. 2. 2. 2. 2. 2. 2. 2. 2. 2. 2. 2. 2. 2. 2. 2. 2. 2. 2. 2. 2. 2.\n",
            " 2. 2. 2. 2. 2. 2. 2. 2. 2. 2. 2. 2. 2. 2. 2. 2. 2. 2. 2. 2. 2. 2. 2. 2.\n",
            " 2. 2. 2. 2. 2. 2. 2. 2. 2. 2. 2. 2. 2. 2.]\n"
          ]
        }
      ]
    },
    {
      "cell_type": "code",
      "source": [
        "# storing the \"3 - other\" in a new veriable called 'race_3'\n",
        "race_3 = race[race==3]\n",
        "print(race_3)"
      ],
      "metadata": {
        "colab": {
          "base_uri": "https://localhost:8080/"
        },
        "id": "64-7Ve9w3IUh",
        "outputId": "6cdd82d5-d684-4ffc-de3a-90ac8d9291b3"
      },
      "execution_count": null,
      "outputs": [
        {
          "output_type": "stream",
          "name": "stdout",
          "text": [
            "[3. 3. 3. 3. 3. 3.]\n"
          ]
        }
      ]
    },
    {
      "cell_type": "code",
      "source": [
        "# storing the \"4 - white\" in a new veriable called 'race_4'\n",
        "race_4 = race[race==4]\n",
        "print(race_4)"
      ],
      "metadata": {
        "colab": {
          "base_uri": "https://localhost:8080/"
        },
        "id": "Cah6Su0R3ZiD",
        "outputId": "547781c0-98fd-48f3-825e-7bd68464a29a"
      },
      "execution_count": null,
      "outputs": [
        {
          "output_type": "stream",
          "name": "stdout",
          "text": [
            "[4. 4. 4. 4. 4. 4. 4. 4. 4. 4. 4. 4. 4. 4. 4. 4. 4. 4. 4. 4. 4. 4. 4. 4.\n",
            " 4. 4. 4. 4. 4. 4. 4. 4. 4. 4. 4. 4. 4. 4. 4. 4. 4. 4. 4. 4. 4. 4. 4. 4.\n",
            " 4. 4. 4. 4. 4. 4. 4. 4. 4. 4. 4. 4. 4. 4. 4. 4. 4. 4. 4. 4. 4. 4. 4. 4.\n",
            " 4. 4. 4. 4. 4. 4. 4. 4. 4. 4. 4. 4. 4. 4. 4. 4. 4. 4. 4. 4. 4. 4. 4. 4.\n",
            " 4. 4. 4. 4. 4. 4. 4. 4. 4. 4. 4. 4. 4. 4. 4. 4. 4. 4. 4. 4. 4. 4. 4. 4.\n",
            " 4. 4. 4. 4. 4. 4. 4. 4. 4. 4. 4. 4. 4. 4. 4. 4. 4. 4. 4. 4. 4. 4. 4. 4.\n",
            " 4. 4. 4. 4. 4. 4. 4. 4. 4. 4. 4. 4. 4. 4. 4. 4. 4. 4. 4. 4. 4. 4. 4. 4.\n",
            " 4. 4. 4. 4. 4. 4. 4. 4. 4. 4. 4. 4. 4. 4. 4. 4. 4. 4. 4. 4. 4. 4. 4. 4.\n",
            " 4. 4. 4. 4. 4. 4. 4. 4. 4. 4. 4. 4. 4. 4. 4. 4. 4. 4. 4. 4. 4. 4. 4. 4.\n",
            " 4. 4. 4. 4. 4. 4. 4. 4. 4. 4. 4. 4. 4. 4. 4. 4. 4. 4. 4. 4. 4. 4. 4. 4.\n",
            " 4. 4. 4. 4. 4. 4. 4. 4. 4. 4. 4. 4. 4. 4. 4. 4. 4. 4. 4. 4. 4. 4. 4. 4.\n",
            " 4. 4. 4. 4. 4. 4. 4. 4. 4. 4. 4. 4. 4. 4. 4. 4. 4. 4. 4. 4. 4. 4. 4. 4.\n",
            " 4. 4. 4. 4. 4. 4. 4. 4. 4. 4. 4. 4. 4. 4. 4. 4. 4. 4. 4. 4. 4. 4. 4. 4.\n",
            " 4. 4. 4. 4. 4. 4. 4. 4. 4. 4. 4. 4. 4. 4. 4. 4. 4. 4. 4. 4. 4. 4. 4. 4.\n",
            " 4. 4. 4. 4. 4. 4. 4. 4. 4. 4. 4. 4. 4. 4. 4. 4. 4. 4. 4. 4. 4. 4. 4. 4.\n",
            " 4. 4. 4. 4. 4. 4. 4. 4. 4. 4. 4. 4. 4. 4. 4. 4. 4. 4. 4. 4. 4. 4. 4. 4.\n",
            " 4. 4. 4. 4. 4. 4. 4. 4. 4. 4. 4. 4. 4. 4. 4. 4. 4. 4. 4. 4. 4. 4. 4. 4.\n",
            " 4. 4. 4. 4. 4. 4. 4. 4. 4. 4. 4. 4. 4. 4. 4. 4. 4. 4. 4. 4. 4. 4. 4. 4.\n",
            " 4. 4. 4. 4. 4. 4. 4. 4. 4. 4. 4. 4. 4. 4. 4. 4. 4. 4. 4. 4. 4. 4. 4. 4.\n",
            " 4. 4. 4. 4. 4. 4. 4. 4. 4. 4. 4. 4. 4. 4. 4. 4. 4. 4. 4. 4. 4. 4. 4. 4.\n",
            " 4. 4. 4. 4. 4. 4. 4. 4. 4. 4. 4. 4. 4. 4. 4. 4. 4. 4. 4. 4. 4. 4. 4. 4.\n",
            " 4. 4. 4. 4. 4. 4. 4. 4. 4. 4. 4. 4. 4. 4. 4. 4. 4. 4. 4. 4. 4. 4. 4. 4.\n",
            " 4. 4. 4. 4. 4. 4. 4. 4. 4. 4. 4. 4. 4. 4. 4. 4. 4. 4. 4. 4. 4. 4. 4. 4.\n",
            " 4. 4. 4. 4. 4. 4. 4. 4. 4. 4. 4. 4. 4. 4. 4. 4. 4. 4. 4. 4. 4. 4. 4. 4.\n",
            " 4. 4. 4. 4. 4. 4. 4. 4. 4. 4. 4. 4. 4. 4. 4. 4. 4. 4. 4. 4. 4. 4. 4. 4.\n",
            " 4. 4. 4. 4. 4. 4. 4. 4. 4. 4. 4. 4. 4. 4. 4. 4. 4. 4. 4. 4. 4. 4. 4. 4.\n",
            " 4. 4. 4. 4. 4. 4. 4. 4. 4. 4. 4. 4. 4. 4. 4. 4. 4. 4. 4. 4. 4. 4. 4. 4.\n",
            " 4. 4. 4. 4. 4. 4. 4. 4. 4. 4. 4. 4. 4. 4. 4. 4. 4. 4. 4. 4. 4. 4. 4. 4.\n",
            " 4. 4. 4. 4. 4. 4. 4. 4. 4. 4. 4. 4. 4. 4. 4. 4. 4. 4. 4. 4. 4. 4. 4. 4.\n",
            " 4. 4. 4. 4. 4. 4. 4. 4. 4. 4. 4. 4. 4. 4. 4. 4. 4. 4. 4. 4. 4. 4. 4. 4.\n",
            " 4. 4. 4. 4. 4. 4. 4. 4. 4. 4. 4. 4. 4. 4. 4. 4. 4. 4. 4. 4. 4. 4. 4. 4.\n",
            " 4. 4. 4. 4. 4. 4. 4. 4. 4. 4. 4. 4. 4. 4. 4. 4. 4. 4. 4. 4. 4. 4. 4. 4.\n",
            " 4. 4. 4. 4. 4. 4. 4. 4. 4. 4. 4. 4. 4. 4. 4. 4. 4. 4. 4. 4. 4. 4. 4. 4.\n",
            " 4. 4. 4. 4. 4. 4. 4. 4. 4. 4. 4. 4. 4. 4. 4. 4. 4. 4. 4. 4. 4. 4. 4. 4.\n",
            " 4. 4. 4. 4. 4. 4. 4. 4. 4. 4. 4. 4. 4. 4. 4. 4. 4. 4. 4. 4. 4. 4. 4. 4.\n",
            " 4. 4. 4. 4. 4. 4. 4. 4.]\n"
          ]
        }
      ]
    },
    {
      "cell_type": "markdown",
      "source": [
        "#####Store the length of the above created arrays in 'len_0', 'len_1','len_2', 'len_3' and 'len_4' respectively"
      ],
      "metadata": {
        "id": "D1LNMfRr3vcQ"
      }
    },
    {
      "cell_type": "code",
      "source": [
        "len_0 = len(race_0)\n",
        "print(\"The length of race_0 is -\", len_0)\n",
        "len_1 = len(race_1)\n",
        "print(\"The length of race_1 is -\", len_1)\n",
        "len_2 = len(race_2)\n",
        "print(\"The length of race_2 is -\", len_2)\n",
        "len_3 = len(race_3)\n",
        "print(\"The length of race_3 is -\", len_3)\n",
        "len_4 = len(race_4)\n",
        "print(\"The length of race_4 is -\", len_4)"
      ],
      "metadata": {
        "colab": {
          "base_uri": "https://localhost:8080/"
        },
        "id": "n1l6awQc3p2p",
        "outputId": "996f8c5d-075c-4dbd-9b4c-b03f03f6f442"
      },
      "execution_count": null,
      "outputs": [
        {
          "output_type": "stream",
          "name": "stdout",
          "text": [
            "The length of race_0 is - 10\n",
            "The length of race_1 is - 27\n",
            "The length of race_2 is - 110\n",
            "The length of race_3 is - 6\n",
            "The length of race_4 is - 848\n"
          ]
        }
      ]
    },
    {
      "cell_type": "markdown",
      "source": [
        "######Find out which is the race with the minimum no. of citizens"
      ],
      "metadata": {
        "id": "su5saPMG56Dz"
      }
    },
    {
      "cell_type": "code",
      "source": [
        "min_len = [len_0,len_1,len_2,len_3,len_4,]\n",
        "print('the race with the minimum no. of citizens is race_3 which have only -',np.min(min_len), 'person.')\n",
        "min_len"
      ],
      "metadata": {
        "colab": {
          "base_uri": "https://localhost:8080/"
        },
        "id": "Y5tZaCHo5LnF",
        "outputId": "f66de655-2de8-4612-a81c-9563f67a0585"
      },
      "execution_count": null,
      "outputs": [
        {
          "output_type": "stream",
          "name": "stdout",
          "text": [
            "the race with the minimum no. of citizens is race_3 which have only - 6 person.\n"
          ]
        },
        {
          "output_type": "execute_result",
          "data": {
            "text/plain": [
              "[10, 27, 110, 6, 848]"
            ]
          },
          "metadata": {},
          "execution_count": 107
        }
      ]
    },
    {
      "cell_type": "markdown",
      "source": [
        "######Store the number associated with the minority race in a variable called 'minority_race'(For eg: if \"len(race_5)\" is the minimum, store 5 in 'minority_race' because that is the index of the race having the least no. of citizens )"
      ],
      "metadata": {
        "id": "-4kcSk93-hAc"
      }
    },
    {
      "cell_type": "code",
      "source": [
        "min_arr = np.array(min_len)\n",
        "min_arr\n",
        "minority_race = np.argwhere(min_arr==6)\n",
        "print(minority_race)"
      ],
      "metadata": {
        "colab": {
          "base_uri": "https://localhost:8080/"
        },
        "id": "JiTFJ8eL67XA",
        "outputId": "967ab81c-0111-4246-8a4b-4ed640ec2de1"
      },
      "execution_count": null,
      "outputs": [
        {
          "output_type": "stream",
          "name": "stdout",
          "text": [
            "[[3]]\n"
          ]
        }
      ]
    },
    {
      "cell_type": "markdown",
      "source": [
        "###### Step 5: As per govt. records citizens above 60 should not work more than 25 hours a week. Let us check if the policy is in place\n",
        "- Create a new subset array called 'senior_citizens' by filtering 'census' according to age>60 (age is the column with index 0)\n",
        "\n",
        "- Add all the working hours(working hours is the column with index 6) of 'senior_citizens' and store it in a variable called 'working_hours_sum'\n",
        "\n",
        "- Find the length of 'senior_citizens' and store it in a variable called 'senior_citizens_len'\n",
        "\n",
        "- Finally find the average working hours of the senior citizens by dividing 'working_hours_sum' by 'senior_citizens_len' and store it in a variable called 'avg_working hours'.\n",
        "\n",
        "- Print 'avg_working_hours' and see if the govt. policy is followed.\n"
      ],
      "metadata": {
        "id": "zW05bpMcDqiq"
      }
    },
    {
      "cell_type": "markdown",
      "source": [
        "######Create a new subset array called 'senior_citizens' by filtering 'census' according to age>60 (age is the column with index 0)"
      ],
      "metadata": {
        "id": "U9aR32ryG2cJ"
      }
    },
    {
      "cell_type": "code",
      "source": [
        "senior_citizens = age[age > 60]\n",
        "#printing the senior_citizens\n",
        "print(senior_citizens)"
      ],
      "metadata": {
        "colab": {
          "base_uri": "https://localhost:8080/"
        },
        "id": "9yt-MaWGCfXN",
        "outputId": "a28adfa3-630e-4cac-f4be-637c44d4555d"
      },
      "execution_count": null,
      "outputs": [
        {
          "output_type": "stream",
          "name": "stdout",
          "text": [
            "[79. 67. 76. 61. 70. 64. 71. 68. 66. 64. 90. 66. 75. 65. 64. 61. 65. 77.\n",
            " 62. 76. 63. 66. 67. 65. 62. 63. 80. 67. 63. 72. 62. 74. 67. 72. 69. 65.\n",
            " 65. 71. 70. 66. 65. 61. 61. 68. 64. 64. 62. 73. 72. 63. 62. 61. 71. 63.\n",
            " 63. 67. 81. 64. 67. 78. 63.]\n"
          ]
        }
      ]
    },
    {
      "cell_type": "markdown",
      "source": [
        "######Add all the working hours(working hours is the column with index 6) of 'senior_citizens' and store it in a variable called 'working_hours_sum'"
      ],
      "metadata": {
        "id": "z7gMAVlPIZvt"
      }
    },
    {
      "cell_type": "code",
      "source": [
        "# extracting hours-per-week column and saving it in a new veriable called 'working_hour\"\n",
        "working_hour = append_data[:,6]\n",
        "working_hour\n",
        "# Adding all the working hours of senior_citizens \n",
        "working_hour_sum = np.sum(working_hour[age>60])\n",
        "print(\"The working hour sum of all the senior citizens is -\", working_hour_sum)"
      ],
      "metadata": {
        "colab": {
          "base_uri": "https://localhost:8080/"
        },
        "id": "SIT83Id7IZX3",
        "outputId": "1a1d5db7-4633-42c2-9988-99902f0a12d7"
      },
      "execution_count": null,
      "outputs": [
        {
          "output_type": "stream",
          "name": "stdout",
          "text": [
            "The working hour sum of all the senior citizens is - 1917.0\n"
          ]
        }
      ]
    },
    {
      "cell_type": "markdown",
      "source": [
        "######Find the length of 'senior_citizens' and store it in a variable called 'senior_citizens_len'"
      ],
      "metadata": {
        "id": "UQyf-k1ZK_4n"
      }
    },
    {
      "cell_type": "code",
      "source": [
        "senior_citizens_len = len(senior_citizens)\n",
        "print(\"The length of 'senior_citizens' is -\", senior_citizens_len)"
      ],
      "metadata": {
        "colab": {
          "base_uri": "https://localhost:8080/"
        },
        "id": "tApR48E7I7Ou",
        "outputId": "b92f7c38-c0dd-4324-80dd-9adf7402e95c"
      },
      "execution_count": null,
      "outputs": [
        {
          "output_type": "stream",
          "name": "stdout",
          "text": [
            "The length of 'senior_citizens' is - 61\n"
          ]
        }
      ]
    },
    {
      "cell_type": "markdown",
      "source": [
        "######Finally find the average working hours of the senior citizens by dividing 'working_hours_sum' by 'senior_citizens_len' and store it in a variable called 'avg_working hours'.\n"
      ],
      "metadata": {
        "id": "pL9DWnGxLef9"
      }
    },
    {
      "cell_type": "code",
      "source": [
        "avg_working_hours = working_hour_sum/senior_citizens_len"
      ],
      "metadata": {
        "id": "JCODYKxFLc5h"
      },
      "execution_count": null,
      "outputs": []
    },
    {
      "cell_type": "markdown",
      "source": [
        "###### Print 'avg_working_hours' and see if the govt. policy is followed."
      ],
      "metadata": {
        "id": "Wxkqgd1eM5Gj"
      }
    },
    {
      "cell_type": "code",
      "source": [
        "print(\"The average working hours of the senior citizens is -\", avg_working_hours)\n",
        "if avg_working_hours < 25:\n",
        "  print(\"The govt. policy is followed.\")\n",
        "else:\n",
        "  print(\"The govt. policy is not followed\")\n"
      ],
      "metadata": {
        "colab": {
          "base_uri": "https://localhost:8080/"
        },
        "id": "63YXnzUAMUxl",
        "outputId": "864c9c0d-2d35-4935-8b7e-8cd2072fd915"
      },
      "execution_count": null,
      "outputs": [
        {
          "output_type": "stream",
          "name": "stdout",
          "text": [
            "The average working hours of the senior citizens is - 31.42622950819672\n",
            "The govt. policy is not followed\n"
          ]
        }
      ]
    },
    {
      "cell_type": "markdown",
      "source": [
        "###### Step 6: Let's check that higher educated people have better pay in general.\n",
        "\n",
        "- Create two new subset arrays called 'high' and 'low' by filtering 'census' according to education-num>10 and education-num<=10 (education-num is the column with index 1) respectively.\n",
        "\n",
        "- Find the mean of income column(income is the column with index 7) of 'high' array and store it in 'avg_pay_high'. Do the same for 'low' array and store it's mean in 'avg_pay_low'.\n",
        "\n",
        "\n"
      ],
      "metadata": {
        "id": "YMF92IzoOAoz"
      }
    },
    {
      "cell_type": "code",
      "source": [
        "# extracting education column\n",
        "education = append_data[:,1]\n",
        "education\n"
      ],
      "metadata": {
        "colab": {
          "base_uri": "https://localhost:8080/"
        },
        "id": "t7I5u34tN5hc",
        "outputId": "83e7542f-bc43-4b5e-957e-dfe31839580c"
      },
      "execution_count": null,
      "outputs": [
        {
          "output_type": "execute_result",
          "data": {
            "text/plain": [
              "array([13., 13.,  9., ..., 10., 13.,  9.])"
            ]
          },
          "metadata": {},
          "execution_count": 86
        }
      ]
    },
    {
      "cell_type": "markdown",
      "source": [
        "######Create two new subset arrays called 'high' and 'low' by filtering 'census' according to education-num>10 and education-num<=10 (education-num is the column with index 1) respectively."
      ],
      "metadata": {
        "id": "SdHM9CqnOpth"
      }
    },
    {
      "cell_type": "code",
      "source": [
        "high = education[education > 10]\n",
        "low = education[education <= 10]"
      ],
      "metadata": {
        "id": "JtYnQNQwOpbH"
      },
      "execution_count": null,
      "outputs": []
    },
    {
      "cell_type": "markdown",
      "source": [
        "######Find the mean of income column(income is the column with index 7) of 'high' array and store it in 'avg_pay_high'. Do the same for 'low' array and store it's mean in 'avg_pay_low'."
      ],
      "metadata": {
        "id": "G6-scga-PbOx"
      }
    },
    {
      "cell_type": "code",
      "source": [
        "# extracting 'income' coloum\n",
        "income = append_data[:,7]\n",
        "print(\"The mean of income column is -\", np.mean(income))\n",
        "avg_pay_high = np.mean(income[education > 10])\n",
        "print(\"The mean of income column of 'high' is -\", avg_pay_high)\n",
        "avg_pay_low = np.mean(income[education <= 10])\n",
        "print(\"The mean of income column of 'low' is -\", avg_pay_low)"
      ],
      "metadata": {
        "colab": {
          "base_uri": "https://localhost:8080/"
        },
        "id": "ARhCtoxsPZPl",
        "outputId": "e1a883ee-3521-47f6-f4bc-17a547cc51f4"
      },
      "execution_count": null,
      "outputs": [
        {
          "output_type": "stream",
          "name": "stdout",
          "text": [
            "The mean of income column is - 0.23176823176823177\n",
            "The mean of income column of 'high' is - 0.42813455657492355\n",
            "The mean of income column of 'low' is - 0.13649851632047477\n"
          ]
        }
      ]
    }
  ]
}