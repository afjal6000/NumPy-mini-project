{
  "nbformat": 4,
  "nbformat_minor": 0,
  "metadata": {
    "colab": {
      "provenance": [],
      "authorship_tag": "ABX9TyNRITOc5F2LIB+7hd76XUlw",
      "include_colab_link": true
    },
    "kernelspec": {
      "name": "python3",
      "display_name": "Python 3"
    },
    "language_info": {
      "name": "python"
    }
  },
  "cells": [
    {
      "cell_type": "markdown",
      "metadata": {
        "id": "view-in-github",
        "colab_type": "text"
      },
      "source": [
        "<a href=\"https://colab.research.google.com/github/afjal6000/NumPy-mini-project/blob/main/NumPy_second_project.ipynb\" target=\"_parent\"><img src=\"https://colab.research.google.com/assets/colab-badge.svg\" alt=\"Open In Colab\"/></a>"
      ]
    },
    {
      "cell_type": "markdown",
      "source": [
        "#NumPy Mini Project\n",
        "Let us work on a new project using NumPy. Where we are going to analys the data by following the given instructions.\n",
        "For working on a new project we need a data set. In our case we have a data set called \"KAG_Conversion_Data.csv\".\n",
        "##Features of the data set are given below:\n",
        "1. ad_id:    unique ID for each ad\n",
        "2. xyzcampaignid:    an ID associated with each ad campaign of XYZ company\n",
        "3. fbcampaignid:    an ID associated with how Facebook tracks each campaign\n",
        "4. age:    age of the person to whom the ad is shown\n",
        "5. gender:    gender of the person to whom the add is shown\n",
        "6. interest:    a code specifying the category to which the person’s interest belongs (interests are as mentioned in the person’s Facebook public profile)\n",
        "7. Impressions:    the number of times the ad was shown\n",
        "8. Clicks:    number of clicks on for that ad\n",
        "9. Spent:    Amount paid by company xyz to Facebook, to show that ad\n",
        "10. Total conversion:    Total number of people who enquired about the product after seeing the ad\n",
        "11. Approved conversion:    Total number of people who bought the product after seeing the ad\n",
        "\n",
        "##And in data set we have some instructions, those are given below:\n",
        "- Load the data. Data is already given to you in variable path\n",
        "\n",
        "- How many unique ad campaigns (xyzcampaignid) does this data contain ? And for how many times was each campaign run ?\n",
        "\n",
        "- What are the age groups that were targeted through these ad campaigns?\n",
        "\n",
        "- What was the average, minimum and maximum amount spent on the ads?\n",
        "\n",
        "- What is the id of the ad having the maximum number of clicks ?\n",
        "\n",
        "- How many people bought the product after seeing the ad with most clicks? Is that the maximum number of purchases in this dataset?\n",
        "\n",
        "- So the ad with the most clicks didn't fetch the maximum number of purchases. Find the details of the product having maximum number of purchases\n",
        "\n"
      ],
      "metadata": {
        "id": "hw-zY6jyT6eC"
      }
    },
    {
      "cell_type": "markdown",
      "source": [
        "##Step 1: Importing NumPy library"
      ],
      "metadata": {
        "id": "r2wle21DWCY3"
      }
    },
    {
      "cell_type": "code",
      "execution_count": null,
      "metadata": {
        "id": "iTfqQq7QLte_"
      },
      "outputs": [],
      "source": [
        "import numpy as np"
      ]
    },
    {
      "cell_type": "markdown",
      "source": [
        "##Step 2: Read the data\n",
        "For reading the data 1st we need to upload the data set into our google colab. After that we can just save the copy data path link or the name of the data set into a variable.\n"
      ],
      "metadata": {
        "id": "dg9YhAQpYBVK"
      }
    },
    {
      "cell_type": "code",
      "source": [
        "data_file = '/content/KAG_Conversion_Data.csv'"
      ],
      "metadata": {
        "id": "1GEA-k3UNUUT"
      },
      "execution_count": null,
      "outputs": []
    },
    {
      "cell_type": "markdown",
      "source": [
        "##Step 3: Working On The Instructions"
      ],
      "metadata": {
        "id": "O9TZgvMwY2KZ"
      }
    },
    {
      "cell_type": "markdown",
      "source": [
        "1. Load the data. Data is already given to you in variable path.\n",
        ">\n",
        "\n"
      ],
      "metadata": {
        "id": "Z4hX7XB7eRCs"
      }
    },
    {
      "cell_type": "code",
      "source": [
        "#Loading the data set\n",
        "data = np.genfromtxt(data_file, delimiter = ',', skip_header= 1)\n",
        "#Printing the data\n",
        "print('\\nData: \\n\\n', data)"
      ],
      "metadata": {
        "id": "7PrH14ReeQj-"
      },
      "execution_count": null,
      "outputs": []
    },
    {
      "cell_type": "markdown",
      "source": [
        "\n",
        "2. How many unique ad campaigns (xyzcampaignid) does this data contain ? And for how many times was each campaign run ?\n",
        "\n",
        ">- For solving this question 1st we need to extract the 'xyzcampaignid' column(xyzcampaignid is the column with index = 1) from the data set and saving it in a veriable called 'campaign'.\n"
      ],
      "metadata": {
        "id": "OAPr6mbCb642"
      }
    },
    {
      "cell_type": "code",
      "source": [
        "#Extracting the 'xyzcampaignid' column in campaign.\n",
        "campaign = data[:,1]\n",
        "#printing out the no. of unique value present in campaign\n",
        "print(len(np.unique(campaign)),'unique ad campaigns this data contain.')\n",
        "#Now for the 2nd part of the question 1st we need to find out the unique values present in 'campaign'\n",
        "print('Unique values of campaign are-',np.unique(campaign)) \n",
        "#And now we are going to find out how many times was each campaign run.\n",
        "camp_916 = data[campaign== 916, 1]\n",
        "print('No. of 916 campaign run is -', camp_916.shape[0])\n",
        "camp_936 = data[campaign==936, 1]\n",
        "print('No. of 936 campaign run is -', camp_936.shape[0])\n",
        "camp_1178 = data[campaign==1178, 1]\n",
        "print('No. of 1178 campaign run is -', camp_1178.shape[0])"
      ],
      "metadata": {
        "colab": {
          "base_uri": "https://localhost:8080/"
        },
        "id": "MVbOa9a4OO5j",
        "outputId": "9387d9e9-88bf-459a-8852-d5e5194e972c"
      },
      "execution_count": null,
      "outputs": [
        {
          "output_type": "stream",
          "name": "stdout",
          "text": [
            "3 unique ad campaigns this data contain.\n",
            "Unique values of campaign are- [ 916.  936. 1178.]\n",
            "No. of 916 campaign run is - 54\n",
            "No. of 936 campaign run is - 464\n",
            "No. of 1178 campaign run is - 625\n"
          ]
        }
      ]
    },
    {
      "cell_type": "markdown",
      "source": [
        "3. What are the age groups that were targeted through these ad campaigns?\n",
        "\n",
        ">- In our the data set we have some column that have data type in string and age is also one of them so in this case we have to load our data in dtype = string than we can do the analysis.\n",
        "\n"
      ],
      "metadata": {
        "id": "GkdcPzXolfWH"
      }
    },
    {
      "cell_type": "code",
      "source": [
        "#Loading the data_file in string data type.\n",
        "data_str = np.genfromtxt(data_file, delimiter =',', dtype = 'str', skip_header = 1)\n",
        "#Extractin age column(age is the column with index = 3)\n",
        "age = data_str[:,3]\n",
        "#printing out the unique values of age column to see the targeted age groups\n",
        "print(np.unique(age))\n",
        "print('The age groups that were targeted through the ad campaigns are - 30 to 49.')"
      ],
      "metadata": {
        "colab": {
          "base_uri": "https://localhost:8080/"
        },
        "id": "4q8ik1UrVMR-",
        "outputId": "b8924020-f1a5-40d4-82a5-493d971a7f64"
      },
      "execution_count": null,
      "outputs": [
        {
          "output_type": "stream",
          "name": "stdout",
          "text": [
            "['30-34' '35-39' '40-44' '45-49']\n",
            "The age groups that were targeted through the ad campaigns are - 30 to 49.\n"
          ]
        }
      ]
    },
    {
      "cell_type": "markdown",
      "source": [
        "4. What was the average, minimum and maximum amount spent on the ads?\n",
        "\n",
        ">- For solving this question 1st we need to extract the 'spent' column form the data set than we csn find out the average, minimum and maximum amount spent on the ads.\n",
        "\n"
      ],
      "metadata": {
        "id": "ztytHs_xqsuL"
      }
    },
    {
      "cell_type": "code",
      "source": [
        "#Extracting spent column(spent is the column with index = 8)\n",
        "spent = data[:,8]\n",
        "print('The average value spent on the ads is -',np.mean(spent))\n",
        "print('The minimum value spent on the ads is -',np.min(spent))\n",
        "print('The maximum value spent on the ads is -',np.max(spent))"
      ],
      "metadata": {
        "colab": {
          "base_uri": "https://localhost:8080/"
        },
        "id": "4hD3OSiQWbh1",
        "outputId": "02f87541-f3f4-4bba-e5ca-07e03cad29db"
      },
      "execution_count": null,
      "outputs": [
        {
          "output_type": "stream",
          "name": "stdout",
          "text": [
            "The average value spent on the ads is - 51.36065613141295\n",
            "The minimum value spent on the ads is - 0.0\n",
            "The maximum value spent on the ads is - 639.9499981\n"
          ]
        }
      ]
    },
    {
      "cell_type": "markdown",
      "source": [
        "5. What is the id of the ad having the maximum number of clicks ?\n",
        "\n",
        ">- So here 1st we need to extract the ad_id and clicks column and after that we need to find the max no. of clicks and compare it with the id column for find out id which having max click.\n",
        "\n"
      ],
      "metadata": {
        "id": "FrnEp5xZy2fW"
      }
    },
    {
      "cell_type": "code",
      "source": [
        "#Extracting clicks column\n",
        "clicks = data[:,7]\n",
        "#Extracting ad_id column\n",
        "ids = data[:,0]\n",
        "#taking the max click in 'clicks' column\n",
        "max_click = clicks.max()\n",
        "print(max_click)\n",
        "#taking all columns values which have max clicks\n",
        "all_data_max_click = data[data[:,7] == 421]\n",
        "print('The id of the ad having the mmaximum numbers of clicks is -', all_data_max_click[0][0])"
      ],
      "metadata": {
        "id": "znSTjgFPWwkL",
        "colab": {
          "base_uri": "https://localhost:8080/"
        },
        "outputId": "6d96a019-75a7-4a71-c98f-5374bf057a40"
      },
      "execution_count": null,
      "outputs": [
        {
          "output_type": "stream",
          "name": "stdout",
          "text": [
            "421.0\n",
            "The id of the ad having the mmaximum numbers of clicks is - 1121814.0\n"
          ]
        }
      ]
    },
    {
      "cell_type": "markdown",
      "source": [
        "6.  How many people bought the product after seeing the ad with most clicks? Is that the maximum number of purchases in this dataset?\n",
        "\n",
        ">- We have already extracted clicks column and checked the maximum no. of click. So now we just need to extract the 'Approved_Conversion' column(Approved_Conversion) and compare with max_click. And after that we need to find maximum no of purchases and check it is equal to \n",
        "\n"
      ],
      "metadata": {
        "id": "qJZkVtRV758F"
      }
    },
    {
      "cell_type": "code",
      "source": [
        "purchases = data[:,10]\n",
        "print(all_data_max_click[0][10],'people bought the product after seeing the ad with most click.')\n",
        "# checking the max purchases\n",
        "max_purchase = purchases.max()\n",
        "if max_purchase == all_data_max_click[0][10]:\n",
        "  print('True')\n",
        "else:\n",
        "  print('It is not the maximum number of purchases in this dataset.')"
      ],
      "metadata": {
        "id": "SorBKsRKXSxf",
        "colab": {
          "base_uri": "https://localhost:8080/"
        },
        "outputId": "c31c860f-e996-4cc0-fb94-24cb3bcda6d1"
      },
      "execution_count": null,
      "outputs": [
        {
          "output_type": "stream",
          "name": "stdout",
          "text": [
            "13.0 people bought the product after seeing the ad with most click.\n",
            "It is not the maximum number of purchases in this dataset.\n"
          ]
        }
      ]
    },
    {
      "cell_type": "markdown",
      "source": [
        "7. So the ad with the most clicks didn't fetch the maximum number of purchases. Find the details of the product having maximum number of purchases.\n",
        "\n",
        ">- In here 1st we need to find out the maximum no. of purchases and take all the data by comparing the max. no. of purchases.\n",
        "\n"
      ],
      "metadata": {
        "id": "K3G6tOdcCorz"
      }
    },
    {
      "cell_type": "code",
      "source": [
        "# Maximum no. of purchases\n",
        "max_purchase = purchases.max()\n",
        "print('Maximum no. of purchases is -',max_purchase)\n",
        "# Taking all the data which have maximum no. of purchases.\n",
        "all_data = data_str[data[:,10] == 21]\n",
        "print('the details of the product having maximum number of purchases is -', all_data)"
      ],
      "metadata": {
        "id": "VdO7CysLH_uV",
        "colab": {
          "base_uri": "https://localhost:8080/"
        },
        "outputId": "0c5a25ce-f8ed-4eae-89aa-66f29ff5ebf8"
      },
      "execution_count": null,
      "outputs": [
        {
          "output_type": "stream",
          "name": "stdout",
          "text": [
            "Maximum no. of purchases is - 21.0\n",
            "the details of the product having maximum number of purchases is - [['1121104' '1178' '144533' '30-34' 'M' '16' '2080666' '202'\n",
            "  '360.1500015' '40' '21']]\n"
          ]
        }
      ]
    }
  ]
}